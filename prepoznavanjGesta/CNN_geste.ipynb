{
 "cells": [
  {
   "cell_type": "code",
   "execution_count": null,
   "id": "0f9ea5c8",
   "metadata": {},
   "outputs": [],
   "source": [
    "## Data AGMENTATION"
   ]
  },
  {
   "cell_type": "code",
   "execution_count": 1,
   "id": "47a596d6",
   "metadata": {},
   "outputs": [
    {
     "name": "stdout",
     "output_type": "stream",
     "text": [
      "Searching in :  /Users/vedran.oreskovic/tensorflow-test/env/Sign-Language-Recognition-And-Benchmarking-NNs/Dataset gestikulacije/test\n",
      "['Diss_Like', 'Like', 'Tri', 'Jedan', 'U', 'I', 'A', 'O', 'Cetri', 'Pet', 'J', 'C', 'Dva', 'E', 'L']\n",
      "['Diss_Like', 'Like', 'Tri', 'Jedan', 'U', 'I', 'A', 'O', 'Cetri', 'Pet', 'J', 'C', 'Dva', 'E', 'L']\n",
      "['Diss_Like', 'Like', 'Tri', 'Jedan', 'U', 'I', 'A', 'O', 'Cetri', 'Pet', 'J', 'C', 'Dva', 'E', 'L']\n",
      "['Diss_Like', 'Like', 'Tri', 'Jedan', 'U', 'I', 'A', 'O', 'Cetri', 'Pet', 'J', 'C', 'Dva', 'E', 'L']\n",
      "['Diss_Like', 'Like', 'Tri', 'Jedan', 'U', 'I', 'A', 'O', 'Cetri', 'Pet', 'J', 'C', 'Dva', 'E', 'L']\n",
      "['Diss_Like', 'Like', 'Tri', 'Jedan', 'U', 'I', 'A', 'O', 'Cetri', 'Pet', 'J', 'C', 'Dva', 'E', 'L']\n",
      "['Diss_Like', 'Like', 'Tri', 'Jedan', 'U', 'I', 'A', 'O', 'Cetri', 'Pet', 'J', 'C', 'Dva', 'E', 'L']\n",
      "['Diss_Like', 'Like', 'Tri', 'Jedan', 'U', 'I', 'A', 'O', 'Cetri', 'Pet', 'J', 'C', 'Dva', 'E', 'L']\n",
      "['Diss_Like', 'Like', 'Tri', 'Jedan', 'U', 'I', 'A', 'O', 'Cetri', 'Pet', 'J', 'C', 'Dva', 'E', 'L']\n",
      "['Diss_Like', 'Like', 'Tri', 'Jedan', 'U', 'I', 'A', 'O', 'Cetri', 'Pet', 'J', 'C', 'Dva', 'E', 'L']\n",
      "['Diss_Like', 'Like', 'Tri', 'Jedan', 'U', 'I', 'A', 'O', 'Cetri', 'Pet', 'J', 'C', 'Dva', 'E', 'L']\n",
      "['Diss_Like', 'Like', 'Tri', 'Jedan', 'U', 'I', 'A', 'O', 'Cetri', 'Pet', 'J', 'C', 'Dva', 'E', 'L']\n",
      "['Diss_Like', 'Like', 'Tri', 'Jedan', 'U', 'I', 'A', 'O', 'Cetri', 'Pet', 'J', 'C', 'Dva', 'E', 'L']\n",
      "['Diss_Like', 'Like', 'Tri', 'Jedan', 'U', 'I', 'A', 'O', 'Cetri', 'Pet', 'J', 'C', 'Dva', 'E', 'L']\n",
      "['Diss_Like', 'Like', 'Tri', 'Jedan', 'U', 'I', 'A', 'O', 'Cetri', 'Pet', 'J', 'C', 'Dva', 'E', 'L']\n",
      "Searching in :  /Users/vedran.oreskovic/tensorflow-test/env/Sign-Language-Recognition-And-Benchmarking-NNs/Dataset gestikulacije/test/Diss_Like\n",
      "Searching in :  /Users/vedran.oreskovic/tensorflow-test/env/Sign-Language-Recognition-And-Benchmarking-NNs/Dataset gestikulacije/test/Like\n",
      "Searching in :  /Users/vedran.oreskovic/tensorflow-test/env/Sign-Language-Recognition-And-Benchmarking-NNs/Dataset gestikulacije/test/Tri\n",
      "Searching in :  /Users/vedran.oreskovic/tensorflow-test/env/Sign-Language-Recognition-And-Benchmarking-NNs/Dataset gestikulacije/test/Jedan\n",
      "Searching in :  /Users/vedran.oreskovic/tensorflow-test/env/Sign-Language-Recognition-And-Benchmarking-NNs/Dataset gestikulacije/test/U\n",
      "Searching in :  /Users/vedran.oreskovic/tensorflow-test/env/Sign-Language-Recognition-And-Benchmarking-NNs/Dataset gestikulacije/test/I\n",
      "Searching in :  /Users/vedran.oreskovic/tensorflow-test/env/Sign-Language-Recognition-And-Benchmarking-NNs/Dataset gestikulacije/test/A\n",
      "Searching in :  /Users/vedran.oreskovic/tensorflow-test/env/Sign-Language-Recognition-And-Benchmarking-NNs/Dataset gestikulacije/test/O\n",
      "Searching in :  /Users/vedran.oreskovic/tensorflow-test/env/Sign-Language-Recognition-And-Benchmarking-NNs/Dataset gestikulacije/test/Cetri\n",
      "Searching in :  /Users/vedran.oreskovic/tensorflow-test/env/Sign-Language-Recognition-And-Benchmarking-NNs/Dataset gestikulacije/test/Pet\n",
      "Searching in :  /Users/vedran.oreskovic/tensorflow-test/env/Sign-Language-Recognition-And-Benchmarking-NNs/Dataset gestikulacije/test/J\n",
      "Searching in :  /Users/vedran.oreskovic/tensorflow-test/env/Sign-Language-Recognition-And-Benchmarking-NNs/Dataset gestikulacije/test/C\n",
      "Searching in :  /Users/vedran.oreskovic/tensorflow-test/env/Sign-Language-Recognition-And-Benchmarking-NNs/Dataset gestikulacije/test/Dva\n",
      "Searching in :  /Users/vedran.oreskovic/tensorflow-test/env/Sign-Language-Recognition-And-Benchmarking-NNs/Dataset gestikulacije/test/E\n",
      "Searching in :  /Users/vedran.oreskovic/tensorflow-test/env/Sign-Language-Recognition-And-Benchmarking-NNs/Dataset gestikulacije/test/L\n",
      "Total Number of directories 15\n",
      "Found 45000 images belonging to 15 classes.\n",
      "Found 13500 images belonging to 15 classes.\n"
     ]
    }
   ],
   "source": [
    "\n",
    "from tensorflow.keras.preprocessing.image import ImageDataGenerator\n",
    "from tensorflow.keras.models import Sequential\n",
    "from tensorflow.keras.layers import Dense, Dropout, Activation, Flatten, BatchNormalization\n",
    "from tensorflow.keras.layers import Conv2D, MaxPooling2D\n",
    "\n",
    "import os\n",
    "\n",
    "import pathlib\n",
    "\n",
    "APP_FOLDER = '/Users/vedran.oreskovic/tensorflow-test/env/Sign-Language-Recognition-And-Benchmarking-NNs/Dataset gestikulacije/test'\n",
    "totalFiles = 0\n",
    "totalDir = 0\n",
    "\n",
    "for base, dirs, files in os.walk(APP_FOLDER):\n",
    "    print('Searching in : ',base)\n",
    "    for directories in dirs:\n",
    "        print(dirs)\n",
    "        totalDir += 1\n",
    "\n",
    "print('Total Number of directories',totalDir)\n",
    "img_rows, img_cols = 28, 28\n",
    "batch_size = 32\n",
    "\n",
    "training_direktorij = \"/Users/vedran.oreskovic/tensorflow-test/env/Sign-Language-Recognition-And-Benchmarking-NNs/Dataset gestikulacije/train\"\n",
    "testing_direktorij = \"/Users/vedran.oreskovic/tensorflow-test/env/Sign-Language-Recognition-And-Benchmarking-NNs/Dataset gestikulacije/test\"\n",
    "\n",
    "\n",
    "# Data agmentation\n",
    "\n",
    "train_datagen = ImageDataGenerator(\n",
    "    rescale=1./255,\n",
    "    rotation_range=30,\n",
    "    width_shift_range=0.3,\n",
    "    height_shift_range=0.3,\n",
    "    horizontal_flip=False,\n",
    "    fill_mode='nearest')\n",
    "    \n",
    "validation_datagen = ImageDataGenerator(rescale=1./255)\n",
    "\n",
    "train_generator = train_datagen.flow_from_directory(\n",
    "    training_direktorij,\n",
    "    target_size = (img_rows, img_cols),\n",
    "    batch_size = batch_size,\n",
    "    color_mode = 'grayscale',\n",
    "    class_mode = 'categorical' # Mozda nije jer imam vise klasa\n",
    "    )\n",
    "\n",
    "validation_generator = validation_datagen.flow_from_directory(\n",
    "    testing_direktorij,\n",
    "    target_size = (img_rows, img_cols),\n",
    "    batch_size = batch_size,\n",
    "    color_mode = 'grayscale',\n",
    "    class_mode = 'categorical' # Mozda nije jer imam vise klasa\n",
    "    )\n"
   ]
  },
  {
   "cell_type": "code",
   "execution_count": 2,
   "id": "647b9032",
   "metadata": {},
   "outputs": [],
   "source": [
    "# Part 1 - Building the CNN\n",
    "\n",
    "from keras.models import Sequential\n",
    "from keras.layers import Convolution2D\n",
    "from keras.layers import MaxPooling2D\n",
    "from keras.layers import Flatten\n",
    "from keras.layers import Dense, Dropout\n",
    "from keras import optimizers\n",
    "\n",
    "import os"
   ]
  },
  {
   "cell_type": "code",
   "execution_count": 3,
   "id": "3d28e3bb",
   "metadata": {},
   "outputs": [],
   "source": [
    "APP_FOLDER_TRAIN = '/Users/vedran.oreskovic/tensorflow-test/env/Sign-Language-Recognition-And-Benchmarking-NNs/Dataset gestikulacije/train/'\n",
    "APP_FOLDER_TEST = '/Users/vedran.oreskovic/tensorflow-test/env/Sign-Language-Recognition-And-Benchmarking-NNs/Dataset gestikulacije/test/'"
   ]
  },
  {
   "cell_type": "code",
   "execution_count": 4,
   "id": "5fd0d796",
   "metadata": {},
   "outputs": [
    {
     "name": "stdout",
     "output_type": "stream",
     "text": [
      "/Users/vedran.oreskovic/tensorflow-test/env/Sign-Language-Recognition-And-Benchmarking-NNs/Dataset gestikulacije/test/\n",
      "0\n",
      "/Users/vedran.oreskovic/tensorflow-test/env/Sign-Language-Recognition-And-Benchmarking-NNs/Dataset gestikulacije/test/Diss_Like\n",
      "900\n",
      "/Users/vedran.oreskovic/tensorflow-test/env/Sign-Language-Recognition-And-Benchmarking-NNs/Dataset gestikulacije/test/Like\n",
      "900\n",
      "/Users/vedran.oreskovic/tensorflow-test/env/Sign-Language-Recognition-And-Benchmarking-NNs/Dataset gestikulacije/test/Tri\n",
      "900\n",
      "/Users/vedran.oreskovic/tensorflow-test/env/Sign-Language-Recognition-And-Benchmarking-NNs/Dataset gestikulacije/test/Jedan\n",
      "900\n",
      "/Users/vedran.oreskovic/tensorflow-test/env/Sign-Language-Recognition-And-Benchmarking-NNs/Dataset gestikulacije/test/U\n",
      "900\n",
      "/Users/vedran.oreskovic/tensorflow-test/env/Sign-Language-Recognition-And-Benchmarking-NNs/Dataset gestikulacije/test/I\n",
      "900\n",
      "/Users/vedran.oreskovic/tensorflow-test/env/Sign-Language-Recognition-And-Benchmarking-NNs/Dataset gestikulacije/test/A\n",
      "900\n",
      "/Users/vedran.oreskovic/tensorflow-test/env/Sign-Language-Recognition-And-Benchmarking-NNs/Dataset gestikulacije/test/O\n",
      "900\n",
      "/Users/vedran.oreskovic/tensorflow-test/env/Sign-Language-Recognition-And-Benchmarking-NNs/Dataset gestikulacije/test/Cetri\n",
      "900\n",
      "/Users/vedran.oreskovic/tensorflow-test/env/Sign-Language-Recognition-And-Benchmarking-NNs/Dataset gestikulacije/test/Pet\n",
      "900\n",
      "/Users/vedran.oreskovic/tensorflow-test/env/Sign-Language-Recognition-And-Benchmarking-NNs/Dataset gestikulacije/test/J\n",
      "900\n",
      "/Users/vedran.oreskovic/tensorflow-test/env/Sign-Language-Recognition-And-Benchmarking-NNs/Dataset gestikulacije/test/C\n",
      "900\n",
      "/Users/vedran.oreskovic/tensorflow-test/env/Sign-Language-Recognition-And-Benchmarking-NNs/Dataset gestikulacije/test/Dva\n",
      "900\n",
      "/Users/vedran.oreskovic/tensorflow-test/env/Sign-Language-Recognition-And-Benchmarking-NNs/Dataset gestikulacije/test/E\n",
      "900\n",
      "/Users/vedran.oreskovic/tensorflow-test/env/Sign-Language-Recognition-And-Benchmarking-NNs/Dataset gestikulacije/test/L\n",
      "900\n",
      "Suma train dataseta je: 13500\n"
     ]
    }
   ],
   "source": [
    "# Save -  d ?\n",
    "\n",
    "import os\n",
    "test = 0\n",
    "def countPyFiles(path):\n",
    "    count = 0\n",
    "    global test\n",
    "    for x in os.listdir(path):\n",
    "        if x.endswith(\".jpg\"):\n",
    "            count = count + 1\n",
    "    test = test + count\n",
    "    return count  \n",
    "\n",
    "def getAllFiles(path):\n",
    "    print(path)\n",
    "    print(countPyFiles(path))\n",
    "\n",
    "    for root, dirs, files in os.walk(path):\n",
    "        for name in dirs:\n",
    "            print(os.path.join(root,name))\n",
    "            print(countPyFiles(os.path.join(root,name)))\n",
    "            \n",
    "          \n",
    "getAllFiles(APP_FOLDER_TEST)\n",
    "\n",
    "print(\"Suma train dataseta je: {}\".format(test))"
   ]
  },
  {
   "cell_type": "code",
   "execution_count": 5,
   "id": "80d0a28d",
   "metadata": {},
   "outputs": [
    {
     "name": "stdout",
     "output_type": "stream",
     "text": [
      "/Users/vedran.oreskovic/tensorflow-test/env/Sign-Language-Recognition-And-Benchmarking-NNs/Dataset gestikulacije/train/\n",
      "0\n",
      "/Users/vedran.oreskovic/tensorflow-test/env/Sign-Language-Recognition-And-Benchmarking-NNs/Dataset gestikulacije/train/Diss_Like\n",
      "3000\n",
      "/Users/vedran.oreskovic/tensorflow-test/env/Sign-Language-Recognition-And-Benchmarking-NNs/Dataset gestikulacije/train/Like\n",
      "3000\n",
      "/Users/vedran.oreskovic/tensorflow-test/env/Sign-Language-Recognition-And-Benchmarking-NNs/Dataset gestikulacije/train/Tri\n",
      "3000\n",
      "/Users/vedran.oreskovic/tensorflow-test/env/Sign-Language-Recognition-And-Benchmarking-NNs/Dataset gestikulacije/train/Jedan\n",
      "3000\n",
      "/Users/vedran.oreskovic/tensorflow-test/env/Sign-Language-Recognition-And-Benchmarking-NNs/Dataset gestikulacije/train/U\n",
      "3000\n",
      "/Users/vedran.oreskovic/tensorflow-test/env/Sign-Language-Recognition-And-Benchmarking-NNs/Dataset gestikulacije/train/I\n",
      "3000\n",
      "/Users/vedran.oreskovic/tensorflow-test/env/Sign-Language-Recognition-And-Benchmarking-NNs/Dataset gestikulacije/train/A\n",
      "3000\n",
      "/Users/vedran.oreskovic/tensorflow-test/env/Sign-Language-Recognition-And-Benchmarking-NNs/Dataset gestikulacije/train/O\n",
      "3000\n",
      "/Users/vedran.oreskovic/tensorflow-test/env/Sign-Language-Recognition-And-Benchmarking-NNs/Dataset gestikulacije/train/Cetri\n",
      "3000\n",
      "/Users/vedran.oreskovic/tensorflow-test/env/Sign-Language-Recognition-And-Benchmarking-NNs/Dataset gestikulacije/train/Pet\n",
      "3000\n",
      "/Users/vedran.oreskovic/tensorflow-test/env/Sign-Language-Recognition-And-Benchmarking-NNs/Dataset gestikulacije/train/J\n",
      "3000\n",
      "/Users/vedran.oreskovic/tensorflow-test/env/Sign-Language-Recognition-And-Benchmarking-NNs/Dataset gestikulacije/train/C\n",
      "3000\n",
      "/Users/vedran.oreskovic/tensorflow-test/env/Sign-Language-Recognition-And-Benchmarking-NNs/Dataset gestikulacije/train/Dva\n",
      "3000\n",
      "/Users/vedran.oreskovic/tensorflow-test/env/Sign-Language-Recognition-And-Benchmarking-NNs/Dataset gestikulacije/train/E\n",
      "3000\n",
      "/Users/vedran.oreskovic/tensorflow-test/env/Sign-Language-Recognition-And-Benchmarking-NNs/Dataset gestikulacije/train/L\n",
      "3000\n",
      "Suma train dataseta je: 45000\n"
     ]
    }
   ],
   "source": [
    "import os\n",
    "train = 0\n",
    "def countPyFiles(path):\n",
    "    count = 0\n",
    "    global train\n",
    "    for x in os.listdir(path):\n",
    "        if x.endswith(\".jpg\"):\n",
    "            count = count + 1\n",
    "    train = train + count\n",
    "    return count  \n",
    "\n",
    "def getAllFiles(path):\n",
    "    print(path)\n",
    "    print(countPyFiles(path))\n",
    "\n",
    "    for root, dirs, files in os.walk(path):\n",
    "        for name in dirs:\n",
    "            print(os.path.join(root,name))\n",
    "            print(countPyFiles(os.path.join(root,name)))\n",
    "            \n",
    "          \n",
    "getAllFiles(APP_FOLDER_TRAIN)\n",
    "\n",
    "print(\"Suma train dataseta je: {}\".format(train))"
   ]
  },
  {
   "cell_type": "code",
   "execution_count": 6,
   "id": "051bb851",
   "metadata": {},
   "outputs": [
    {
     "name": "stdout",
     "output_type": "stream",
     "text": [
      "Metal device set to: Apple M1 Max\n",
      "Model: \"sequential\"\n",
      "_________________________________________________________________\n",
      " Layer (type)                Output Shape              Param #   \n",
      "=================================================================\n",
      " conv2d (Conv2D)             (None, 26, 26, 128)       1280      \n",
      "                                                                 \n",
      " max_pooling2d (MaxPooling2D  (None, 13, 13, 128)      0         \n",
      " )                                                               \n",
      "                                                                 \n",
      " conv2d_1 (Conv2D)           (None, 11, 11, 128)       147584    \n",
      "                                                                 \n",
      " max_pooling2d_1 (MaxPooling  (None, 5, 5, 128)        0         \n",
      " 2D)                                                             \n",
      "                                                                 \n",
      " conv2d_2 (Conv2D)           (None, 3, 3, 64)          73792     \n",
      "                                                                 \n",
      " max_pooling2d_2 (MaxPooling  (None, 1, 1, 64)         0         \n",
      " 2D)                                                             \n",
      "                                                                 \n",
      " flatten (Flatten)           (None, 64)                0         \n",
      "                                                                 \n",
      " dense (Dense)               (None, 512)               33280     \n",
      "                                                                 \n",
      " dropout (Dropout)           (None, 512)               0         \n",
      "                                                                 \n",
      " dense_1 (Dense)             (None, 15)                7695      \n",
      "                                                                 \n",
      "=================================================================\n",
      "Total params: 263,631\n",
      "Trainable params: 263,631\n",
      "Non-trainable params: 0\n",
      "_________________________________________________________________\n",
      "None\n"
     ]
    },
    {
     "name": "stderr",
     "output_type": "stream",
     "text": [
      "2022-09-13 10:45:06.932310: I tensorflow/core/common_runtime/pluggable_device/pluggable_device_factory.cc:305] Could not identify NUMA node of platform GPU ID 0, defaulting to 0. Your kernel may not have been built with NUMA support.\n",
      "2022-09-13 10:45:06.932980: I tensorflow/core/common_runtime/pluggable_device/pluggable_device_factory.cc:271] Created TensorFlow device (/job:localhost/replica:0/task:0/device:GPU:0 with 0 MB memory) -> physical PluggableDevice (device: 0, name: METAL, pci bus id: <undefined>)\n"
     ]
    }
   ],
   "source": [
    "model = Sequential()\n",
    "\n",
    "model.add(Convolution2D(128, kernel_size=(3,3), activation='relu', input_shape=(28,28,1)))\n",
    "model.add(MaxPooling2D(pool_size=(2, 2)))\n",
    "\n",
    "model.add(Convolution2D(128, kernel_size=(3,3), activation='relu'))\n",
    "model.add(MaxPooling2D(pool_size=(2, 2)))\n",
    "\n",
    "model.add(Convolution2D(64, kernel_size=(3,3), activation='relu'))\n",
    "model.add(MaxPooling2D(pool_size=(2, 2)))\n",
    "\n",
    "model.add(Flatten())\n",
    "\n",
    "#Step 4 - Full Connection\n",
    "model.add(Dense(512, activation = 'relu'))\n",
    "model.add(Dropout(0.25))\n",
    "model.add(Dense(15, activation = 'softmax'))\n",
    "\n",
    "print(model.summary())"
   ]
  },
  {
   "cell_type": "code",
   "execution_count": null,
   "id": "8202ec5e",
   "metadata": {},
   "outputs": [],
   "source": []
  },
  {
   "cell_type": "code",
   "execution_count": 7,
   "id": "6b3ca28d",
   "metadata": {},
   "outputs": [
    {
     "name": "stdout",
     "output_type": "stream",
     "text": [
      "Epoch 1/22\n"
     ]
    },
    {
     "name": "stderr",
     "output_type": "stream",
     "text": [
      "/Users/vedran.oreskovic/tensorflow-test/env/lib/python3.8/site-packages/keras/optimizers/optimizer_v2/gradient_descent.py:108: UserWarning: The `lr` argument is deprecated, use `learning_rate` instead.\n",
      "  super(SGD, self).__init__(name, **kwargs)\n",
      "2022-09-13 10:45:12.620306: W tensorflow/core/platform/profile_utils/cpu_utils.cc:128] Failed to get CPU frequency: 0 Hz\n",
      "2022-09-13 10:45:12.890466: I tensorflow/core/grappler/optimizers/custom_graph_optimizer_registry.cc:113] Plugin optimizer for device_type GPU is enabled.\n"
     ]
    },
    {
     "name": "stdout",
     "output_type": "stream",
     "text": [
      "1402/1406 [============================>.] - ETA: 0s - loss: 2.6908 - accuracy: 0.0873"
     ]
    },
    {
     "name": "stderr",
     "output_type": "stream",
     "text": [
      "2022-09-13 10:45:29.838971: I tensorflow/core/grappler/optimizers/custom_graph_optimizer_registry.cc:113] Plugin optimizer for device_type GPU is enabled.\n"
     ]
    },
    {
     "name": "stdout",
     "output_type": "stream",
     "text": [
      "1406/1406 [==============================] - 20s 14ms/step - loss: 2.6906 - accuracy: 0.0874 - val_loss: 2.5953 - val_accuracy: 0.1395\n",
      "Epoch 2/22\n",
      "1406/1406 [==============================] - 20s 15ms/step - loss: 2.2670 - accuracy: 0.2408 - val_loss: 1.3850 - val_accuracy: 0.5244\n",
      "Epoch 3/22\n",
      "1406/1406 [==============================] - 18s 13ms/step - loss: 1.4020 - accuracy: 0.5254 - val_loss: 0.8441 - val_accuracy: 0.7190\n",
      "Epoch 4/22\n",
      "1406/1406 [==============================] - 19s 14ms/step - loss: 0.9181 - accuracy: 0.6834 - val_loss: 0.5074 - val_accuracy: 0.8276\n",
      "Epoch 5/22\n",
      "1406/1406 [==============================] - 19s 14ms/step - loss: 0.7147 - accuracy: 0.7513 - val_loss: 0.4169 - val_accuracy: 0.8670\n",
      "Epoch 6/22\n",
      "1406/1406 [==============================] - 19s 14ms/step - loss: 0.5911 - accuracy: 0.7908 - val_loss: 0.3286 - val_accuracy: 0.8816\n",
      "Epoch 7/22\n",
      "1406/1406 [==============================] - 19s 13ms/step - loss: 0.5650 - accuracy: 0.8063 - val_loss: 0.2863 - val_accuracy: 0.8979\n",
      "Epoch 8/22\n",
      "1406/1406 [==============================] - 19s 13ms/step - loss: 0.4878 - accuracy: 0.8291 - val_loss: 0.2444 - val_accuracy: 0.9183\n",
      "Epoch 9/22\n",
      "1406/1406 [==============================] - 20s 14ms/step - loss: 0.4501 - accuracy: 0.8410 - val_loss: 0.1940 - val_accuracy: 0.9225\n",
      "Epoch 10/22\n",
      "1406/1406 [==============================] - 19s 13ms/step - loss: 0.4207 - accuracy: 0.8527 - val_loss: 0.2823 - val_accuracy: 0.9167\n",
      "Epoch 11/22\n",
      "1406/1406 [==============================] - 19s 14ms/step - loss: 0.3947 - accuracy: 0.8618 - val_loss: 0.1056 - val_accuracy: 0.9664\n",
      "Epoch 12/22\n",
      "1406/1406 [==============================] - 19s 14ms/step - loss: 0.3747 - accuracy: 0.8699 - val_loss: 0.1678 - val_accuracy: 0.9535\n",
      "Epoch 13/22\n",
      "1406/1406 [==============================] - 19s 14ms/step - loss: 0.3613 - accuracy: 0.8735 - val_loss: 0.1141 - val_accuracy: 0.9568\n",
      "Epoch 14/22\n",
      "1406/1406 [==============================] - 20s 14ms/step - loss: 0.3513 - accuracy: 0.8750 - val_loss: 0.2824 - val_accuracy: 0.9290\n",
      "Epoch 15/22\n",
      "1406/1406 [==============================] - 21s 15ms/step - loss: 0.3544 - accuracy: 0.8750 - val_loss: 0.1736 - val_accuracy: 0.9435\n",
      "Epoch 16/22\n",
      "1406/1406 [==============================] - 21s 15ms/step - loss: 0.3354 - accuracy: 0.8820 - val_loss: 0.1021 - val_accuracy: 0.9615\n",
      "Epoch 17/22\n",
      "1406/1406 [==============================] - 20s 14ms/step - loss: 0.3214 - accuracy: 0.8857 - val_loss: 0.1193 - val_accuracy: 0.9599\n",
      "Epoch 18/22\n",
      "1406/1406 [==============================] - 19s 14ms/step - loss: 0.3097 - accuracy: 0.8899 - val_loss: 0.1677 - val_accuracy: 0.9467\n",
      "Epoch 19/22\n",
      "1406/1406 [==============================] - 19s 14ms/step - loss: 0.2998 - accuracy: 0.8940 - val_loss: 0.1409 - val_accuracy: 0.9665\n",
      "Epoch 20/22\n",
      "1406/1406 [==============================] - 19s 13ms/step - loss: 0.2928 - accuracy: 0.8971 - val_loss: 0.1184 - val_accuracy: 0.9631\n",
      "Epoch 21/22\n",
      "1406/1406 [==============================] - 19s 14ms/step - loss: 0.2996 - accuracy: 0.8965 - val_loss: 0.1249 - val_accuracy: 0.9625\n",
      "Epoch 22/22\n",
      "1406/1406 [==============================] - 19s 13ms/step - loss: 0.2809 - accuracy: 0.9014 - val_loss: 0.1583 - val_accuracy: 0.9568\n"
     ]
    }
   ],
   "source": [
    "#Compiling The CNN\n",
    "model.compile(\n",
    "              optimizer = optimizers.SGD(lr = 0.1),\n",
    "              loss = 'categorical_crossentropy',\n",
    "              metrics = ['accuracy'])\n",
    "\n",
    "train_sample = train\n",
    "test_sample = test\n",
    "epochs = 22\n",
    "\n",
    "history = model.fit(train_generator, steps_per_epoch = train_sample // batch_size, epochs = epochs, validation_data = validation_generator, validation_steps = test_sample // batch_size)"
   ]
  },
  {
   "cell_type": "code",
   "execution_count": 8,
   "id": "33810f3b",
   "metadata": {},
   "outputs": [],
   "source": [
    "# Pohrana modela\n",
    "\n",
    "model.save(\"Moje_geste_CNN.h5\")"
   ]
  },
  {
   "cell_type": "code",
   "execution_count": 9,
   "id": "1056d6cc",
   "metadata": {
    "scrolled": true
   },
   "outputs": [
    {
     "data": {
      "image/png": "[encoded data removed]",
      "text/plain": [
       "<Figure size 640x480 with 1 Axes>"
      ]
     },
     "metadata": {},
     "output_type": "display_data"
    },
    {
     "data": {
      "image/png": "[encoded data removed]",
      "text/plain": [
       "<Figure size 640x480 with 1 Axes>"
      ]
     },
     "metadata": {},
     "output_type": "display_data"
    }
   ],
   "source": [
    "import matplotlib.pyplot as plt\n",
    "\n",
    "# summarize history for accuracy\n",
    "plt.plot(history.history['accuracy'])\n",
    "plt.plot(history.history['val_accuracy'])\n",
    "plt.title('Model accuracy')\n",
    "plt.ylabel('accuracy')\n",
    "plt.xlabel('epoch')\n",
    "plt.legend(['SGD optimizer accuracy', 'SGD validation accuracy'], loc='upper left')\n",
    "plt.show()\n",
    "\n",
    "\n",
    "# summarize history for loss\n",
    "plt.plot(history.history['loss'])\n",
    "plt.plot(history.history['val_loss'])\n",
    "plt.title('Model loss')\n",
    "plt.ylabel('loss')\n",
    "plt.xlabel('epoch')\n",
    "plt.legend(['SGD optimizer loss', 'SGD validation loss'], loc='upper left')\n",
    "plt.show()"
   ]
  },
  {
   "cell_type": "code",
   "execution_count": null,
   "id": "b8157905",
   "metadata": {},
   "outputs": [],
   "source": []
  }
 ],
 "metadata": {
  "kernelspec": {
   "display_name": "Python 3 (ipykernel)",
   "language": "python",
   "name": "python3"
  },
  "language_info": {
   "codemirror_mode": {
    "name": "ipython",
    "version": 3
   },
   "file_extension": ".py",
   "mimetype": "text/x-python",
   "name": "python",
   "nbconvert_exporter": "python",
   "pygments_lexer": "ipython3",
   "version": "3.8.13"
  }
 },
 "nbformat": 4,
 "nbformat_minor": 5
}
